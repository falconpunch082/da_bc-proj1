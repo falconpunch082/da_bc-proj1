{
 "cells": [
  {
   "cell_type": "markdown",
   "id": "df9283bf",
   "metadata": {},
   "source": [
    "## Analysing the impact of rainfall on crop yield \n",
    "Done by Nicholas Dale (falconpunch082)\n",
    "\n",
    "Objective: To determine how rainfall impacts crop yield of different crops\n",
    "            by creating a DataFrame containing relevant columns and then\n",
    "            creating a scatter plot of temperature vs crop yield for each\n",
    "            unique crop in the dataset."
   ]
  },
  {
   "cell_type": "code",
   "execution_count": null,
   "id": "3e26aedb",
   "metadata": {},
   "outputs": [],
   "source": [
    "# Creating dependencies for setup\n",
    "import matplotlib.pyplot as plt\n",
    "import pandas as pd\n",
    "import numpy as np\n",
    "import warnings\n",
    "from pathlib import Path\n",
    "from scipy.stats import linregress"
   ]
  },
  {
   "cell_type": "markdown",
   "id": "fd1a3988",
   "metadata": {},
   "source": [
    "**Data Synthesis and Cleanup**"
   ]
  },
  {
   "cell_type": "code",
   "execution_count": null,
   "id": "98045e25",
   "metadata": {},
   "outputs": [],
   "source": [
    "# Creating file paths for each .csv file\n",
    "crop_csv = Path(\"resources/crop_yield.csv\")\n",
    "\n",
    "# Creating DataFrames from each .csv file\n",
    "crop = pd.read_csv(crop_csv)\n",
    "\n",
    "# removing any results from both DataFrames that contain null values\n",
    "crop.dropna(how='any')"
   ]
  },
  {
   "cell_type": "code",
   "execution_count": null,
   "id": "f4356d52",
   "metadata": {},
   "outputs": [],
   "source": [
    "# Previewing crop DataFrame\n",
    "crop.head()"
   ]
  },
  {
   "cell_type": "code",
   "execution_count": null,
   "id": "d7c6a9a3",
   "metadata": {},
   "outputs": [],
   "source": [
    "# Picking out relevant columns\n",
    "crop_cleaned = crop[['Crop', 'Crop_Year', 'State', 'Annual_Rainfall', 'Yield']]\n",
    "\n",
    "# Displaying created DataFrame\n",
    "crop_cleaned.head()"
   ]
  },
  {
   "cell_type": "code",
   "execution_count": null,
   "id": "e1807659",
   "metadata": {},
   "outputs": [],
   "source": [
    "# As determined in temperature_analysis.ipynb, the top 5 crops are: rice, maize, moong, urad and groundnut\n",
    "# Unlike temperature, annual rainfall is provided for each state each year.\n",
    "warnings.filterwarnings('ignore')\n",
    "\n",
    "# Creating new DataFrames grouped by crop\n",
    "rice = crop_cleaned[crop_cleaned['Crop'] == 'Rice']\n",
    "maize = crop_cleaned[crop_cleaned['Crop'] == 'Maize']\n",
    "moong = crop_cleaned[crop_cleaned['Crop'] == 'Moong(Green Gram)']\n",
    "urad = crop_cleaned[crop_cleaned['Crop'] == 'Urad']\n",
    "groundnut = crop_cleaned[crop_cleaned['Crop'] == 'Groundnut']\n",
    "\n",
    "# Sorting by state and year for beautification purposes (they do not have any impact in this analysis).\n",
    "# Unlike the temperature analysis, rainfall provided is for each state each year, therefore no\n",
    "# generalisation is done in this analysis.\n",
    "rice = rice.groupby(['State', 'Crop_Year']).sum().reset_index()\n",
    "maize = maize.groupby(['State', 'Crop_Year']).sum().reset_index()\n",
    "moong = moong.groupby(['State', 'Crop_Year']).sum().reset_index()\n",
    "urad = urad.groupby(['State', 'Crop_Year']).sum().reset_index()\n",
    "groundnut = groundnut.groupby(['State', 'Crop_Year']).sum().reset_index()"
   ]
  },
  {
   "cell_type": "code",
   "execution_count": null,
   "id": "872920b4",
   "metadata": {},
   "outputs": [],
   "source": [
    "# Creating .csv files of each DataFrame for viewing\n",
    "rice.to_csv(\"output/rice_rainfall.csv\")\n",
    "maize.to_csv(\"output/maize_rainfall.csv\")\n",
    "moong.to_csv(\"output/moong_rainfall.csv\")\n",
    "urad.to_csv(\"output/urad_rainfall.csv\")\n",
    "groundnut.to_csv(\"output/groundnut_rainfall.csv\")"
   ]
  },
  {
   "cell_type": "markdown",
   "id": "30cdb720",
   "metadata": {},
   "source": [
    "**Data Visualisation**"
   ]
  },
  {
   "cell_type": "code",
   "execution_count": null,
   "id": "10a73c08",
   "metadata": {},
   "outputs": [],
   "source": [
    "# Define a function to create Linear Regression plots\n",
    "def lin_reg(x, y):\n",
    "    (slope, intercept, rvalue, pvalue, stderr) = linregress(x, y)\n",
    "    regress_values = x * slope + intercept\n",
    "    line_eq = \"y = \" + str(round(slope,2)) + \"x + \" + str(round(intercept,2))\n",
    "    r_sq = rvalue ** 2\n",
    "    \n",
    "    return regress_values, line_eq, rvalue"
   ]
  },
  {
   "cell_type": "code",
   "execution_count": null,
   "id": "3de0a99d",
   "metadata": {},
   "outputs": [],
   "source": [
    "# Rice vs. Rainfall visualisation\n",
    "rice['Annual_Rainfall'] = rice['Annual_Rainfall'].astype('float')\n",
    "rice['Yield'] = rice['Yield'].astype('float')\n",
    "regress_values, line_eq, rvalue = lin_reg(rice['Annual_Rainfall'], rice['Yield'])\n",
    "plt.scatter(rice['Annual_Rainfall'], rice['Yield'])\n",
    "plt.plot(rice['Annual_Rainfall'], regress_values, \"r-\")\n",
    "plt.title(\"Relationship between rice crop yield in a year \\n and annual rainfall in India\")\n",
    "plt.xlabel(\"Rainfall (in mm)\")\n",
    "plt.ylabel(\"Yield (production of crop (m^3) / area (ha)\")\n",
    "print(f\"The r-value is: {rvalue}\")\n",
    "plt.savefig(\"output/rice_yield_rainfall.png\")\n",
    "plt.show()"
   ]
  },
  {
   "cell_type": "markdown",
   "id": "ca0475a3",
   "metadata": {},
   "source": [
    "There is a strong and positive relationship between rice crop yield and rainfall, suggesting that the rice crop yield is likely to increase as amount of rainfall increases."
   ]
  },
  {
   "cell_type": "code",
   "execution_count": null,
   "id": "84cf074e",
   "metadata": {},
   "outputs": [],
   "source": [
    "# Maize vs. Rainfall visualisation\n",
    "maize['Annual_Rainfall'] = maize['Annual_Rainfall'].astype('float')\n",
    "maize['Yield'] = maize['Yield'].astype('float')\n",
    "regress_values, line_eq, rvalue = lin_reg(maize['Annual_Rainfall'], maize['Yield'])\n",
    "plt.scatter(maize['Annual_Rainfall'], maize['Yield'])\n",
    "plt.plot(maize['Annual_Rainfall'], regress_values, \"r-\")\n",
    "plt.title(\"Relationship between maize crop yield in a year \\n and annual rainfall in India\")\n",
    "plt.xlabel(\"Rainfall (in mm)\")\n",
    "plt.ylabel(\"Yield (production of crop (m^3) / area (ha)\")\n",
    "print(f\"The r-value is: {rvalue}\")\n",
    "plt.savefig(\"output/maize_yield_rainfall.png\")\n",
    "plt.show()"
   ]
  },
  {
   "cell_type": "markdown",
   "id": "ac11488d",
   "metadata": {},
   "source": [
    "There is no significant relationship between maize crop yield and rainfall.\n",
    "\n",
    "Considering that the scatter plot for the relationship between maize crop yield and temperature is similar to this scatter plot, it is safe to say that maize probably works differently to other crops in that both temperature and rainfall do not impact on its growth."
   ]
  },
  {
   "cell_type": "code",
   "execution_count": null,
   "id": "cdcf2260",
   "metadata": {},
   "outputs": [],
   "source": [
    "# Moong vs. Rainfall visualisation\n",
    "moong['Annual_Rainfall'] = moong['Annual_Rainfall'].astype('float')\n",
    "moong['Yield'] = moong['Yield'].astype('float')\n",
    "regress_values, line_eq, rvalue = lin_reg(moong['Annual_Rainfall'], moong['Yield'])\n",
    "plt.scatter(moong['Annual_Rainfall'], moong['Yield'])\n",
    "plt.plot(moong['Annual_Rainfall'], regress_values, \"r-\")\n",
    "plt.title(\"Relationship between moong crop yield in a year \\n and annual rainfall in India\")\n",
    "plt.xlabel(\"Rainfall (in mm)\")\n",
    "plt.ylabel(\"Yield (production of crop (m^3) / area (ha)\")\n",
    "print(f\"The r-value is: {rvalue}\")\n",
    "plt.savefig(\"output/moong_yield_rainfall.png\")\n",
    "plt.show()"
   ]
  },
  {
   "cell_type": "markdown",
   "id": "fae8b8f4",
   "metadata": {},
   "source": [
    "There is a moderate and positive relationship between moong crop yield and rainfall, suggesting that the moong crop yield may tend to increase as amount of rainfall increases."
   ]
  },
  {
   "cell_type": "code",
   "execution_count": null,
   "id": "63238f3b",
   "metadata": {},
   "outputs": [],
   "source": [
    "# Urad vs. Temperature visualisation\n",
    "urad['Annual_Rainfall'] = urad['Annual_Rainfall'].astype('float')\n",
    "urad['Yield'] = urad['Yield'].astype('float')\n",
    "regress_values, line_eq, rvalue = lin_reg(urad['Annual_Rainfall'], urad['Yield'])\n",
    "plt.scatter(urad['Annual_Rainfall'], urad['Yield'])\n",
    "plt.plot(urad['Annual_Rainfall'], regress_values, \"r-\")\n",
    "plt.title(\"Relationship between urad crop yield in a year \\n and annual rainfall in India\")\n",
    "plt.xlabel(\"Rainfall (in mm)\")\n",
    "plt.ylabel(\"Yield (production of crop (m^3) / area (ha)\")\n",
    "print(f\"The r-value is: {rvalue}\")\n",
    "plt.savefig(\"output/urad_yield_rainfall.png\")\n",
    "plt.show()"
   ]
  },
  {
   "cell_type": "markdown",
   "id": "32b76221",
   "metadata": {},
   "source": [
    "There is a moderate and positive relationship between urad crop yield and rainfall, suggesting that the urad crop yield nay tend to increase as amount of rainfall increases."
   ]
  },
  {
   "cell_type": "code",
   "execution_count": null,
   "id": "78f72de9",
   "metadata": {},
   "outputs": [],
   "source": [
    "# Groundnut vs. Rainfall visualisation\n",
    "groundnut['Annual_Rainfall'] = groundnut['Annual_Rainfall'].astype('float')\n",
    "groundnut['Yield'] = groundnut['Yield'].astype('float')\n",
    "regress_values, line_eq, rvalue = lin_reg(groundnut['Annual_Rainfall'], groundnut['Yield'])\n",
    "plt.scatter(groundnut['Annual_Rainfall'], groundnut['Yield'])\n",
    "plt.plot(groundnut['Annual_Rainfall'], regress_values, \"r-\")\n",
    "plt.title(\"Relationship between groundnut crop yield in a year \\n and annual rainfall in India\")\n",
    "plt.xlabel(\"Rainfall (in mm)\")\n",
    "plt.ylabel(\"Yield (production of crop (m^3) / area (ha)\")\n",
    "print(f\"The r-value is: {rvalue}\")\n",
    "plt.savefig(\"output/groundnut_yield_rainfall.png\")\n",
    "plt.show()"
   ]
  },
  {
   "cell_type": "markdown",
   "id": "c4cdd715",
   "metadata": {},
   "source": [
    "There is a strong and positive relationship between groundnut crop yield and rainfall, suggesting that the groundnut crop yield is likely to increase as amount of rainfall increases."
   ]
  }
 ],
 "metadata": {
  "kernelspec": {
   "display_name": "Python 3 (ipykernel)",
   "language": "python",
   "name": "python3"
  },
  "language_info": {
   "codemirror_mode": {
    "name": "ipython",
    "version": 3
   },
   "file_extension": ".py",
   "mimetype": "text/x-python",
   "name": "python",
   "nbconvert_exporter": "python",
   "pygments_lexer": "ipython3",
   "version": "3.11.4"
  }
 },
 "nbformat": 4,
 "nbformat_minor": 5
}
